{
 "cells": [
  {
   "cell_type": "code",
   "execution_count": null,
   "metadata": {},
   "outputs": [],
   "source": [
    "# problem 1\n",
    "Num=int(input(\"Input the Number \"))\n",
    "if Num==0:\n",
    "    print(\"The Number is neither positive nor negative\")\n",
    "elif Num>0:\n",
    "    print(\"The Number is positive\")\n",
    "else:\n",
    "    print(\"This Number is negative\")"
   ]
  },
  {
   "cell_type": "code",
   "execution_count": null,
   "metadata": {},
   "outputs": [],
   "source": [
    "# problem 2\n",
    "Numb=int(input(\"Enter the Number \"))\n",
    "if Numb==5:\n",
    "    print(\"You didn't mentioned what to do when the number is 5\")\n",
    "elif Numb<5:\n",
    "          print(\"Hi, I am a Small Number.\")\n",
    "else:\n",
    "          print(\"Hi, I am above 5\")"
   ]
  },
  {
   "cell_type": "code",
   "execution_count": null,
   "metadata": {},
   "outputs": [],
   "source": [
    "# problem 3\n",
    "Marks=float(input(\"Enter Your Marks \"))\n",
    "if Marks<float(33):\n",
    "    print(\"You Have Failed\")\n",
    "elif Marks>=float(33) and Marks<float(60):\n",
    "    print(\"You Have Passed but score is not good\")\n",
    "elif Marks>=float(60) and Marks<float(80):\n",
    "    print(\"You have scored well in test\")\n",
    "else:\n",
    "    print(\"You have got some excellent skills in this subject\")"
   ]
  },
  {
   "cell_type": "code",
   "execution_count": null,
   "metadata": {},
   "outputs": [],
   "source": [
    "# problem 4\n",
    "temp=int(input(\"Enter the Temperature \"))\n",
    "if temp<5:\n",
    "    print(\"It is Super Cold out there.\")\n",
    "elif temp>=5 and temp<15:\n",
    "    print(\"It's little bit cold outside.\")\n",
    "elif temp>=15 and temp<25:\n",
    "    print(\"Weather is Nice outside.\")\n",
    "elif temp>=25 and temp<35:\n",
    "    print(\"Weather is bit hot out there.\")\n",
    "else:\n",
    "    print(\"It's Super-hot.\")"
   ]
  },
  {
   "cell_type": "code",
   "execution_count": null,
   "metadata": {},
   "outputs": [],
   "source": [
    "# problem 5\n",
    "print(\"This program can tell you whether a Number is Divisible by 5 or not\")\n",
    "Numbe=float(input(\"Enter the Number \"))\n",
    "if Numbe%float(5)==0:\n",
    "    print(\"Hey, I am Multiple of 5\")\n",
    "else:\n",
    "    print(\"I am not a Multiple of 5\")"
   ]
  },
  {
   "cell_type": "code",
   "execution_count": 2,
   "metadata": {},
   "outputs": [
    {
     "name": "stdout",
     "output_type": "stream",
     "text": [
      "This program can tell you whether a Number is Even or Odd\n"
     ]
    },
    {
     "name": "stdin",
     "output_type": "stream",
     "text": [
      "Enter the Number  7\n"
     ]
    },
    {
     "name": "stdout",
     "output_type": "stream",
     "text": [
      "No, This Number is Odd\n"
     ]
    }
   ],
   "source": [
    "# problem 6\n",
    "print(\"This program can tell you whether a Number is Even or Odd\")\n",
    "Number=int(input(\"Enter the Number \"))\n",
    "if Number%2==0:\n",
    "    print(\"Yes, This Number is Even\")\n",
    "else:\n",
    "    print(\"No, This Number is Odd\")"
   ]
  },
  {
   "cell_type": "code",
   "execution_count": 4,
   "metadata": {},
   "outputs": [
    {
     "name": "stdin",
     "output_type": "stream",
     "text": [
      "Input Number  70\n"
     ]
    },
    {
     "name": "stdout",
     "output_type": "stream",
     "text": [
      "Yes, I am divisible by both 5 and 7\n"
     ]
    }
   ],
   "source": [
    "# problem 7\n",
    "N_=int(input(\"Input Number \"))\n",
    "if N_%5==0 and N_%7==0:\n",
    "    print(\"Yes, I am divisible by both 5 and 7\")\n",
    "else:\n",
    "    print(\"No, I am not divisible by 5 and 7\")"
   ]
  },
  {
   "cell_type": "code",
   "execution_count": 7,
   "metadata": {},
   "outputs": [
    {
     "name": "stdin",
     "output_type": "stream",
     "text": [
      "What's the 1st Number  10\n",
      "What's the 2nd Number  7\n",
      "What's the 3rd Number  5\n"
     ]
    },
    {
     "name": "stdout",
     "output_type": "stream",
     "text": [
      "10.0 Is the Largest Number\n"
     ]
    }
   ],
   "source": [
    "# problem 8\n",
    "p=float(input(\"What's the 1st Number \"))\n",
    "q=float(input(\"What's the 2nd Number \"))\n",
    "r=float(input(\"What's the 3rd Number \"))\n",
    "if p>q:\n",
    "    if p>r:\n",
    "        print(p,\"Is the Largest Number\")\n",
    "elif q>p:\n",
    "    if q>r:\n",
    "        print(q,\"Is the Largest Number\")\n",
    "elif r>p:\n",
    "    if r>q:\n",
    "        print(r,\"Is the Largest Number\")\n",
    "    "
   ]
  },
  {
   "cell_type": "code",
   "execution_count": 9,
   "metadata": {},
   "outputs": [
    {
     "name": "stdin",
     "output_type": "stream",
     "text": [
      "Input Number  15\n"
     ]
    },
    {
     "name": "stdout",
     "output_type": "stream",
     "text": [
      "This is divisible by 5 but not by 7\n"
     ]
    }
   ],
   "source": [
    "# problem 9\n",
    "N2=int(input(\"Input Number \"))\n",
    "if N2%5==0 and not(N2%7==0):\n",
    "    print(\"This is divisible by 5 but not by 7\")\n",
    "# These questions were taking Much time so i decided not to make them complex."
   ]
  },
  {
   "cell_type": "code",
   "execution_count": 1,
   "metadata": {},
   "outputs": [
    {
     "name": "stdin",
     "output_type": "stream",
     "text": [
      "Input Number  5\n"
     ]
    },
    {
     "name": "stdout",
     "output_type": "stream",
     "text": [
      "This Number is either divisible by 5 or 7\n"
     ]
    }
   ],
   "source": [
    "# problem 10\n",
    "N3=int(input(\"Input Number \"))\n",
    "if N3%5==0 or N3%7==0:\n",
    "    print(\"This Number is either divisible by 5 or 7\")"
   ]
  },
  {
   "cell_type": "code",
   "execution_count": 4,
   "metadata": {},
   "outputs": [
    {
     "name": "stdin",
     "output_type": "stream",
     "text": [
      "Input the Color of the traffic light  yellow\n"
     ]
    },
    {
     "name": "stdout",
     "output_type": "stream",
     "text": [
      "Hey, be ready to move\n"
     ]
    }
   ],
   "source": [
    "# problem 11\n",
    "color=input(\"Input the Color of the traffic light \")\n",
    "if color==\"red\" or color==\"RED\" or color==\"Red\":\n",
    "    print(\"Please turn off your engine\")\n",
    "elif color==\"yellow\" or color==\"YELLOW\" or color==\"Yellow\":\n",
    "    print(\"Hey, be ready to move\")\n",
    "elif color==\"green\" or color==\"GREEN\" or color==\"Green\":\n",
    "    print(\"You are clear to move ahead\")\n",
    "else:\n",
    "    print(\"Are you Joking?\")"
   ]
  },
  {
   "cell_type": "code",
   "execution_count": 17,
   "metadata": {},
   "outputs": [
    {
     "name": "stdin",
     "output_type": "stream",
     "text": [
      "Input value of a  1\n",
      "Input value of b  -2\n",
      "Input value of c  -15\n"
     ]
    },
    {
     "name": "stdout",
     "output_type": "stream",
     "text": [
      "(-28.50000000000001+15.499098393731161j)\n"
     ]
    }
   ],
   "source": [
    "# problem 12\n",
    "# Sorry Sir, I was unable to do this.\n",
    "# I am in 9th class"
   ]
  },
  {
   "cell_type": "code",
   "execution_count": 18,
   "metadata": {},
   "outputs": [
    {
     "name": "stdin",
     "output_type": "stream",
     "text": [
      "Input Weather  sunny\n"
     ]
    },
    {
     "name": "stdout",
     "output_type": "stream",
     "text": [
      "Let's not get outside today\n"
     ]
    }
   ],
   "source": [
    "# problem 13\n",
    "weather=input(\"Input Weather \")\n",
    "if weather==\"RAINY\" or \"rainy\" or \"Rainy\":\n",
    "    print(\"Let's not get outside today\")\n",
    "elif weather==\"SUNNY\" or weather==\"sunny\" or weather==\"Sunny\":\n",
    "    print(\"hey, let's go for swimming\")\n",
    "elif weather==\"CLOUDY\" or weather==\"cloudy\" or weather==\"Cloudy\":\n",
    "    print(\"Hey, Let's play outside, weather is cool\")\n"
   ]
  },
  {
   "cell_type": "code",
   "execution_count": 19,
   "metadata": {},
   "outputs": [],
   "source": [
    "# problem 14\n",
    "# i think that the answer will be true"
   ]
  },
  {
   "cell_type": "code",
   "execution_count": 20,
   "metadata": {},
   "outputs": [],
   "source": [
    "# problem 15\n",
    "# i think that the answer will be true"
   ]
  },
  {
   "cell_type": "code",
   "execution_count": 21,
   "metadata": {},
   "outputs": [],
   "source": [
    "# problem 16\n",
    "# i think that the answer will be false"
   ]
  },
  {
   "cell_type": "code",
   "execution_count": 23,
   "metadata": {},
   "outputs": [],
   "source": [
    "# problem 17\n",
    "# i think that the answer will be true"
   ]
  },
  {
   "cell_type": "code",
   "execution_count": 24,
   "metadata": {},
   "outputs": [],
   "source": [
    "# problem 18\n",
    "# i think that the answer will be true"
   ]
  },
  {
   "cell_type": "code",
   "execution_count": 28,
   "metadata": {},
   "outputs": [],
   "source": [
    "# problem 19\n",
    "# i think that the answer will be true"
   ]
  },
  {
   "cell_type": "code",
   "execution_count": 32,
   "metadata": {},
   "outputs": [],
   "source": [
    "# problem 20\n",
    "# i think that the answer will be false"
   ]
  }
 ],
 "metadata": {
  "kernelspec": {
   "display_name": "Python 3",
   "language": "python",
   "name": "python3"
  },
  "language_info": {
   "codemirror_mode": {
    "name": "ipython",
    "version": 3
   },
   "file_extension": ".py",
   "mimetype": "text/x-python",
   "name": "python",
   "nbconvert_exporter": "python",
   "pygments_lexer": "ipython3",
   "version": "3.8.5"
  }
 },
 "nbformat": 4,
 "nbformat_minor": 4
}
